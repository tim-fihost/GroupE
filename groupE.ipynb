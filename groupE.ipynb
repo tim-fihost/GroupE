{
  "nbformat": 4,
  "nbformat_minor": 0,
  "metadata": {
    "colab": {
      "provenance": [],
      "authorship_tag": "ABX9TyON8tWfTv/wzI1QUpYDFMSf",
      "include_colab_link": true
    },
    "kernelspec": {
      "name": "python3",
      "display_name": "Python 3"
    },
    "language_info": {
      "name": "python"
    }
  },
  "cells": [
    {
      "cell_type": "markdown",
      "metadata": {
        "id": "view-in-github",
        "colab_type": "text"
      },
      "source": [
        "<a href=\"https://colab.research.google.com/github/tim-fihost/GroupE/blob/main/groupE.ipynb\" target=\"_parent\"><img src=\"https://colab.research.google.com/assets/colab-badge.svg\" alt=\"Open In Colab\"/></a>"
      ]
    },
    {
      "cell_type": "code",
      "execution_count": 1,
      "metadata": {
        "id": "nNuPl0qssFku"
      },
      "outputs": [],
      "source": [
        "import sqlite3"
      ]
    },
    {
      "cell_type": "code",
      "source": [
        "conn = sqlite3.connect('school.db')\n",
        "cursor = conn.cursor()"
      ],
      "metadata": {
        "id": "0st82abusIBz"
      },
      "execution_count": null,
      "outputs": []
    },
    {
      "cell_type": "code",
      "source": [
        "table = '''CREATE TABLE STUDENT(NAME VARCHAR(45), CLASS VARCHAR(30), GRADE INT);'''\n",
        "cursor.execute(table)"
      ],
      "metadata": {
        "colab": {
          "base_uri": "https://localhost:8080/"
        },
        "id": "DJqXkEHpsQQW",
        "outputId": "f5b991c0-3561-46ec-d3bd-99e52e6c3390"
      },
      "execution_count": null,
      "outputs": [
        {
          "output_type": "execute_result",
          "data": {
            "text/plain": [
              "<sqlite3.Cursor at 0x7f0548567b20>"
            ]
          },
          "metadata": {},
          "execution_count": 3
        }
      ]
    },
    {
      "cell_type": "code",
      "source": [
        "cursor.execute('''INSERT INTO STUDENT VALUES ('Timur','IoT',4.5)''')"
      ],
      "metadata": {
        "colab": {
          "base_uri": "https://localhost:8080/"
        },
        "id": "MQSYQSSEstgr",
        "outputId": "ef86fb63-9ced-4341-9b2a-d0983ac0972d"
      },
      "execution_count": null,
      "outputs": [
        {
          "output_type": "execute_result",
          "data": {
            "text/plain": [
              "<sqlite3.Cursor at 0x7f0548567b20>"
            ]
          },
          "metadata": {},
          "execution_count": 6
        }
      ]
    },
    {
      "cell_type": "code",
      "source": [
        "data = cursor.execute('''SELECT * FROM STUDENT''')\n",
        "for row in data:\n",
        "    print(row)"
      ],
      "metadata": {
        "colab": {
          "base_uri": "https://localhost:8080/"
        },
        "id": "IH5vG0IysU2o",
        "outputId": "bc0a5de7-132e-4b9c-c545-b9e3b76abf05"
      },
      "execution_count": null,
      "outputs": [
        {
          "output_type": "stream",
          "name": "stdout",
          "text": [
            "('Timur', 'IoT', 4.5)\n"
          ]
        }
      ]
    },
    {
      "cell_type": "code",
      "source": [
        "cursor.execute('''INSERT INTO STUDENT VALUES \n",
        "('Tatyana','Academic Korean', 4.5),\n",
        "('MuhammadAli', 'Korean culture', 3.5),\n",
        "('Saidabror', 'Python', 4.0),\n",
        "('Azamat','Math', 3.0),\n",
        "('Vasya', 'Basic Korean', 2.75),\n",
        "('Kim Suhyon', 'English', 2.5),\n",
        "('Soo Jihyo', 'Java', 3.5),\n",
        "('Soo Jihyo', 'C++', 2.0),\n",
        "('Andrew','Computer Networks', 1.0) ''')"
      ],
      "metadata": {
        "colab": {
          "base_uri": "https://localhost:8080/"
        },
        "id": "W_TSrfDCsYAP",
        "outputId": "a66609d8-3945-4bb8-f3da-364ae3c94272"
      },
      "execution_count": null,
      "outputs": [
        {
          "output_type": "execute_result",
          "data": {
            "text/plain": [
              "<sqlite3.Cursor at 0x7f0548567b20>"
            ]
          },
          "metadata": {},
          "execution_count": 15
        }
      ]
    },
    {
      "cell_type": "code",
      "source": [
        "data = cursor.execute('''SELECT * FROM STUDENT''')\n",
        "for row in data:\n",
        "    print(row)"
      ],
      "metadata": {
        "colab": {
          "base_uri": "https://localhost:8080/"
        },
        "outputId": "cde5d93d-7efc-4efd-98c7-b4abb1c20210",
        "id": "qdO-Vu-2vGCy"
      },
      "execution_count": null,
      "outputs": [
        {
          "output_type": "stream",
          "name": "stdout",
          "text": [
            "('Timur', 'IoT', 4.5)\n",
            "('Tatyana', 'Academic Korean', 4.5)\n",
            "('MuhammadAli', 'Korean culture', 3.5)\n",
            "('Saidabror', 'Python', 4)\n",
            "('Azamat', 'Math', 3)\n",
            "('Vasya', 'Basic Korean', 2.75)\n",
            "('Kim Suhyon', 'English', 2.5)\n",
            "('Soo Jihyo', 'Java', 3.5)\n",
            "('Soo Jihyo', 'C++', 2)\n",
            "('Andrew', 'Computer Networks', 1)\n"
          ]
        }
      ]
    },
    {
      "cell_type": "code",
      "source": [
        "cursor.execute('''\n",
        "SELECT *\n",
        "  CASE\n",
        "    WHEN GRADE > 4.2  THEN 'A+'\n",
        "    WHEN GRADE > 4.0  THEN 'A0'\n",
        "    WHEN GRADE > 3.5  THEN 'B+'\n",
        "    WHEN GRADE > 3.0  THEN 'B0'\n",
        "    WHEN GRADE > 2.75 THEN 'C+'\n",
        "    WHEN GRADE > 2.0  THEN 'C0'\n",
        "    WHEN GRADE > 1.75 THEN 'D+'\n",
        "    WHEN GRADE > 1.0 THEN 'D0'\n",
        "    WHEN GRADE = 0 THEN 'F'\n",
        "END AS FINAL GRADE\n",
        "FROM STUDENT ''')"
      ],
      "metadata": {
        "colab": {
          "base_uri": "https://localhost:8080/",
          "height": 207
        },
        "id": "_fAFNNTNvGdP",
        "outputId": "c396495b-f113-4b55-f924-79546ef2f669"
      },
      "execution_count": null,
      "outputs": [
        {
          "output_type": "error",
          "ename": "OperationalError",
          "evalue": "ignored",
          "traceback": [
            "\u001b[0;31m---------------------------------------------------------------------------\u001b[0m",
            "\u001b[0;31mOperationalError\u001b[0m                          Traceback (most recent call last)",
            "\u001b[0;32m<ipython-input-22-7e6c580ba4a5>\u001b[0m in \u001b[0;36m<module>\u001b[0;34m\u001b[0m\n\u001b[1;32m     12\u001b[0m     \u001b[0mWHEN\u001b[0m \u001b[0mGRADE\u001b[0m \u001b[0;34m=\u001b[0m \u001b[0;36m0\u001b[0m \u001b[0mTHEN\u001b[0m \u001b[0;34m'F'\u001b[0m\u001b[0;34m\u001b[0m\u001b[0;34m\u001b[0m\u001b[0m\n\u001b[1;32m     13\u001b[0m \u001b[0mEND\u001b[0m \u001b[0mAS\u001b[0m \u001b[0mFINAL\u001b[0m \u001b[0mGRADE\u001b[0m\u001b[0;34m\u001b[0m\u001b[0;34m\u001b[0m\u001b[0m\n\u001b[0;32m---> 14\u001b[0;31m FROM STUDENT; ''')\n\u001b[0m",
            "\u001b[0;31mOperationalError\u001b[0m: near \"CASE\": syntax error"
          ]
        }
      ]
    },
    {
      "cell_type": "code",
      "source": [],
      "metadata": {
        "id": "J0F1-5IEwczJ"
      },
      "execution_count": null,
      "outputs": []
    }
  ]
}